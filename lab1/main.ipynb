{
 "cells": [
  {
   "cell_type": "code",
   "execution_count": 18,
   "metadata": {},
   "outputs": [],
   "source": [
    "import dolfin"
   ]
  },
  {
   "cell_type": "code",
   "execution_count": 19,
   "metadata": {},
   "outputs": [
    {
     "name": "stdout",
     "output_type": "stream",
     "text": [
      "Defaulting to user installation because normal site-packages is not writeable\n",
      "Requirement already satisfied: pygmsh in /home/ztz/.local/lib/python3.10/site-packages (7.1.17)\n",
      "Requirement already satisfied: gmsh in /home/ztz/.local/lib/python3.10/site-packages (from pygmsh) (4.12.2)\n",
      "Requirement already satisfied: meshio<6,>=4.3.2 in /home/ztz/.local/lib/python3.10/site-packages (from pygmsh) (5.3.5)\n",
      "Requirement already satisfied: numpy>=1.20.0 in /usr/lib/python3/dist-packages (from pygmsh) (1.21.5)\n",
      "Requirement already satisfied: rich in /home/ztz/.local/lib/python3.10/site-packages (from meshio<6,>=4.3.2->pygmsh) (13.7.0)\n",
      "Requirement already satisfied: markdown-it-py>=2.2.0 in /home/ztz/.local/lib/python3.10/site-packages (from rich->meshio<6,>=4.3.2->pygmsh) (3.0.0)\n",
      "Requirement already satisfied: pygments<3.0.0,>=2.13.0 in /home/ztz/.local/lib/python3.10/site-packages (from rich->meshio<6,>=4.3.2->pygmsh) (2.17.2)\n",
      "Requirement already satisfied: mdurl~=0.1 in /home/ztz/.local/lib/python3.10/site-packages (from markdown-it-py>=2.2.0->rich->meshio<6,>=4.3.2->pygmsh) (0.1.2)\n"
     ]
    }
   ],
   "source": [
    "!pip install pygmsh"
   ]
  },
  {
   "cell_type": "code",
   "execution_count": 9,
   "metadata": {},
   "outputs": [
    {
     "name": "stdout",
     "output_type": "stream",
     "text": [
      "\u001b[33mWARNING: Skipping pyvista as it is not installed.\u001b[0m\u001b[33m\n",
      "\u001b[0m"
     ]
    }
   ],
   "source": [
    "!pip uninstall pyvista"
   ]
  },
  {
   "cell_type": "code",
   "execution_count": 21,
   "metadata": {},
   "outputs": [],
   "source": [
    "import numpy as np\n",
    "import pygmsh"
   ]
  },
  {
   "cell_type": "code",
   "execution_count": 22,
   "metadata": {},
   "outputs": [],
   "source": [
    "lc = 100.0                       # Characteristic length of mesh\n",
    "xmin, xmax = 0.0, 2000.0         # X axis boundaries\n",
    "zmin, zmax = -500.0, -2500.0     # Z axis boundaries\n",
    "\n",
    "inj_z = -1500.0                  # Depth of injection\n",
    "flt_offset = 50.0                # Offset of fault\n",
    "flt_thick = 10.0                 # Thickness of fault\n",
    "tana = np.tan(np.deg2rad(80.0))  # Tangeant of dipping angle of fault\n",
    "dist = 500.0 - 0.5 * flt_thick   # Distance from injection point (0.0, -1500.0) to left wall of fault\n",
    "\n",
    "bnd_thick = 10.0                 # Thickness of boundary elements\n"
   ]
  },
  {
   "cell_type": "code",
   "execution_count": 23,
   "metadata": {},
   "outputs": [],
   "source": [
    "depths = [zmin, -1300.0, -1450.0, -1550.0, -1700.0, zmax]\n",
    "fault_left = [[dist + (z - inj_z) / tana, z, 0.0] for z in depths]\n",
    "\n",
    "depths = [zmin, -1300.0 + flt_offset, -1450.0 + flt_offset, -1550.0 + flt_offset, -1700.0 + flt_offset, zmax]\n",
    "fault_right = [[dist + (z - inj_z) / tana + flt_thick, z, 0.0] for z in depths]\n",
    "\n",
    "fault_pts = fault_left + fault_right[::-1]"
   ]
  },
  {
   "cell_type": "code",
   "execution_count": 24,
   "metadata": {},
   "outputs": [],
   "source": [
    "cenaq_left_pts = [\n",
    "    [xmin, -1450.0, 0.0],\n",
    "    [dist + (-1450.0 - inj_z) / tana, -1450.0, 0.0],\n",
    "    [dist + (-1550.0 - inj_z) / tana, -1550.0, 0.0],\n",
    "    [xmin, -1550.0, 0.0],\n",
    "]\n",
    "capro_top_left_pts = [\n",
    "    [xmin, -1300.0, 0.0],\n",
    "    [dist + (-1300.0 - inj_z) / tana, -1300.0, 0.0],\n",
    "    [dist + (-1450.0 - inj_z) / tana, -1450.0, 0.0],\n",
    "    [xmin, -1450.0, 0.0],\n",
    "]\n",
    "capro_bot_left_pts = [\n",
    "    [xmin, -1550.0, 0.0],\n",
    "    [dist + (-1550.0 - inj_z) / tana, -1550.0, 0.0],\n",
    "    [dist + (-1700.0 - inj_z) / tana, -1700.0, 0.0],\n",
    "    [xmin, -1700.0, 0.0],\n",
    "]\n",
    "uppaq_left_pts = [\n",
    "    [xmin, zmin, 0.0],\n",
    "    [dist + (zmin - inj_z) / tana, zmin, 0.0],\n",
    "    [dist + (-1300.0 - inj_z) / tana, -1300.0, 0.0],\n",
    "    [xmin, -1300.0, 0.0],\n",
    "]\n",
    "basaq_left_pts = [\n",
    "    [xmin, -1700.0, 0.0],\n",
    "    [dist + (-1700.0 - inj_z) / tana, -1700.0, 0.0],\n",
    "    [dist + (zmax - inj_z) / tana, zmax, 0.0],\n",
    "    [xmin, zmax, 0.0],\n",
    "]\n"
   ]
  },
  {
   "cell_type": "code",
   "execution_count": 25,
   "metadata": {},
   "outputs": [],
   "source": [
    "cenaq_right_pts = [\n",
    "    [dist + (-1450.0 - inj_z + flt_offset) / tana + flt_thick, -1450.0 + flt_offset, 0.0],\n",
    "    [xmax, -1450.0 + flt_offset, 0.0],\n",
    "    [xmax, -1550.0 + flt_offset, 0.0],\n",
    "    [dist + (-1550.0 - inj_z + flt_offset) / tana + flt_thick, -1550.0 + flt_offset, 0.0],\n",
    "]\n",
    "capro_top_right_pts = [\n",
    "    [dist + (-1300.0 - inj_z + flt_offset) / tana + flt_thick, -1300.0 + flt_offset, 0.0],\n",
    "    [xmax, -1300.0 + flt_offset, 0.0],\n",
    "    [xmax, -1450.0 + flt_offset, 0.0],\n",
    "    [dist + (-1450.0 - inj_z + flt_offset) / tana + flt_thick, -1450.0 + flt_offset, 0.0],\n",
    "]\n",
    "capro_bot_right_pts = [\n",
    "    [dist + (-1550.0 - inj_z + flt_offset) / tana + flt_thick, -1550.0 + flt_offset, 0.0],\n",
    "    [xmax, -1550.0 + flt_offset, 0.0],\n",
    "    [xmax, -1700.0 + flt_offset, 0.0],\n",
    "    [dist + (-1700.0 - inj_z + flt_offset) / tana + flt_thick, -1700.0 + flt_offset, 0.0],\n",
    "]\n",
    "uppaq_right_pts = [\n",
    "    [dist + (zmin - inj_z) / tana + flt_thick, zmin, 0.0],\n",
    "    [xmax, zmin, 0.0],\n",
    "    [xmax, -1300.0 + flt_offset, 0.0],\n",
    "    [dist + (-1300.0 - inj_z + flt_offset) / tana + flt_thick, -1300.0 + flt_offset, 0.0],\n",
    "]\n",
    "basaq_right_pts = [\n",
    "    [dist + (-1700.0 - inj_z + flt_offset) / tana + flt_thick, -1700.0 + flt_offset, 0.0],\n",
    "    [xmax, -1700.0 + flt_offset, 0.0],\n",
    "    [xmax, zmax, 0.0],\n",
    "    [dist + (zmax-inj_z) / tana + flt_thick, zmax, 0.0],\n",
    "]\n"
   ]
  },
  {
   "cell_type": "code",
   "execution_count": 26,
   "metadata": {},
   "outputs": [],
   "source": [
    "bound_right_pts = [\n",
    "    [xmax, zmin, 0.0],\n",
    "    [xmax + bnd_thick, zmin, 0.0],\n",
    "    [xmax + bnd_thick, zmax, 0.0],\n",
    "    [xmax, zmax, 0.0],\n",
    "    [xmax, -1700.0 + flt_offset, 0.0],\n",
    "    [xmax, -1550.0 + flt_offset, 0.0],\n",
    "    [xmax, -1450.0 + flt_offset, 0.0],\n",
    "    [xmax, -1300.0 + flt_offset, 0.0],\n",
    "]\n",
    "bound_top_pts = [\n",
    "    [xmin, zmin, 0.0],\n",
    "    [dist + (zmin - inj_z) / tana, zmin, 0.0],\n",
    "    [dist + (zmin - inj_z) / tana + flt_thick, zmin, 0.0],\n",
    "    [xmax, zmin, 0.0],\n",
    "    [xmax + bnd_thick, zmin, 0.0],\n",
    "    [xmax + bnd_thick, zmin + bnd_thick, 0.0],\n",
    "    [dist + (zmin - inj_z + bnd_thick) / tana + flt_thick, zmin + bnd_thick, 0.0],\n",
    "    [dist + (zmin - inj_z + bnd_thick) / tana, zmin + bnd_thick, 0.0],\n",
    "    [xmin, zmin + bnd_thick, 0.0],\n",
    "]\n",
    "bound_bot_pts = [\n",
    "    [xmin, zmax, 0.0],\n",
    "    [dist + (zmax - inj_z) / tana, zmax, 0.0],\n",
    "    [dist + (zmax - inj_z) / tana + flt_thick, zmax, 0.0],\n",
    "    [xmax, zmax, 0.0],\n",
    "    [xmax + bnd_thick, zmax, 0.0],\n",
    "    [xmax + bnd_thick, zmax - bnd_thick, 0.0],\n",
    "    [dist + (zmax - inj_z - bnd_thick) / tana + flt_thick, zmax - bnd_thick, 0.0],\n",
    "    [dist + (zmax - inj_z - bnd_thick) / tana, zmax - bnd_thick, 0.0],\n",
    "    [xmin, zmax - bnd_thick, 0.0],\n",
    "]"
   ]
  },
  {
   "cell_type": "code",
   "execution_count": 27,
   "metadata": {},
   "outputs": [],
   "source": [
    "with pygmsh.geo.Geometry() as geo:\n",
    "    # Define polygons\n",
    "    fault = geo.add_polygon(fault_pts, mesh_size=0.1 * lc)\n",
    "    cenaq_left = geo.add_polygon(cenaq_left_pts, mesh_size=0.1 * lc)\n",
    "    capro_top_left = geo.add_polygon(capro_top_left_pts, mesh_size=0.2 * lc)\n",
    "    capro_bot_left = geo.add_polygon(capro_bot_left_pts, mesh_size=0.2 * lc)\n",
    "    uppaq_left = geo.add_polygon(uppaq_left_pts, mesh_size=2.0 * lc)\n",
    "    basaq_left = geo.add_polygon(basaq_left_pts, mesh_size=2.0 * lc)\n",
    "    cenaq_right = geo.add_polygon(cenaq_right_pts, mesh_size=0.75 * lc)\n",
    "    capro_top_right = geo.add_polygon(capro_top_right_pts, mesh_size=0.75 * lc)\n",
    "    capro_bot_right = geo.add_polygon(capro_bot_right_pts, mesh_size=0.75 * lc)\n",
    "    uppaq_right = geo.add_polygon(uppaq_right_pts, mesh_size=2.0 * lc)\n",
    "    basaq_right = geo.add_polygon(basaq_right_pts, mesh_size=2.0 * lc)\n",
    "    bound_right = geo.add_polygon(bound_right_pts, mesh_size=lc)\n",
    "    bound_top = geo.add_polygon(bound_top_pts, mesh_size=lc)\n",
    "    bound_bot = geo.add_polygon(bound_bot_pts, mesh_size=lc)\n",
    "\n",
    "    # Define materials\n",
    "    geo.add_physical([uppaq_left, uppaq_right], \"UPPAQ\")\n",
    "    geo.add_physical([capro_top_left, capro_bot_left, capro_top_right, capro_bot_right], \"CAPRO\")\n",
    "    geo.add_physical([cenaq_left, cenaq_right], \"CENAQ\")\n",
    "    geo.add_physical([basaq_left, basaq_right], \"BASAQ\")\n",
    "    geo.add_physical(fault, \"FAULT\")\n",
    "    geo.add_physical([bound_right, bound_top, bound_bot], \"BOUND\")\n",
    "\n",
    "    # Remove duplicate entities\n",
    "    geo.env.removeAllDuplicates()\n",
    "    mesh = geo.generate_mesh(dim=2, algorithm=6)\n",
    "\n",
    "    # Convert cell sets to material\n",
    "    cell_data = [np.empty(len(c.data), dtype=int) for c in mesh.cells]\n",
    "    field_data = {}\n",
    "    for i, (k, v) in enumerate(mesh.cell_sets.items()):\n",
    "        if k:\n",
    "            field_data[k] = np.array([i + 1, 3])\n",
    "            for ii, vv in enumerate(v):\n",
    "                cell_data[ii][vv] = i + 1\n",
    "    mesh.cell_data[\"material\"] = cell_data\n",
    "    mesh.field_data.update(field_data)\n",
    "    mesh.cell_sets = {}\n",
    "\n",
    "    # Remove lower dimension entities\n",
    "    idx = [i for i, cell in enumerate(mesh.cells) if cell.type == \"triangle\"]\n",
    "    mesh.cells = [mesh.cells[i] for i in idx]\n",
    "    mesh.cell_data = {k: [v[i] for i in idx] for k, v in mesh.cell_data.items()}"
   ]
  },
  {
   "cell_type": "code",
   "execution_count": 10,
   "metadata": {},
   "outputs": [
    {
     "name": "stdout",
     "output_type": "stream",
     "text": [
      "trame\n"
     ]
    }
   ],
   "source": [
    "import pyvista\n",
    "print(pyvista.global_theme.jupyter_backend)\n",
    "pyvista.start_xvfb()\n",
    "pyvista.set_jupyter_backend(\"trame\")"
   ]
  },
  {
   "cell_type": "code",
   "execution_count": 13,
   "metadata": {},
   "outputs": [
    {
     "data": {
      "image/png": "[encoded data removed]",
      "text/plain": [
       "<PIL.Image.Image image mode=RGB size=200x200 at 0x7F68A426DB40>"
      ]
     },
     "metadata": {},
     "output_type": "display_data"
    }
   ],
   "source": [
    "%matplotlib inline\n",
    "p = pyvista.Plotter(window_size=(200, 200))\n",
    "p.add_mesh(\n",
    "pyvista.ParametricKlein()\n",
    ")\n",
    "if not pyvista.OFF_SCREEN:\n",
    "    p.show(jupyter_backend='ipykernel')\n",
    "else:\n",
    "    figure = p.screenshot(\"fundamentals_mesh.png\")"
   ]
  }
 ],
 "metadata": {
  "kernelspec": {
   "display_name": "Python 3",
   "language": "python",
   "name": "python3"
  },
  "language_info": {
   "codemirror_mode": {
    "name": "ipython",
    "version": 3
   },
   "file_extension": ".py",
   "mimetype": "text/x-python",
   "name": "python",
   "nbconvert_exporter": "python",
   "pygments_lexer": "ipython3",
   "version": "3.10.12"
  }
 },
 "nbformat": 4,
 "nbformat_minor": 2
}
